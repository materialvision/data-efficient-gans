{
  "nbformat": 4,
  "nbformat_minor": 0,
  "metadata": {
    "accelerator": "GPU",
    "anaconda-cloud": {},
    "colab": {
      "name": "ESE-gan-explore.ipynb",
      "provenance": [],
      "collapsed_sections": [],
      "toc_visible": true
    },
    "kernelspec": {
      "display_name": "Python 3.7 (tensorflow)",
      "language": "python",
      "name": "tensorflow"
    },
    "language_info": {
      "codemirror_mode": {
        "name": "ipython",
        "version": 3
      },
      "file_extension": ".py",
      "mimetype": "text/x-python",
      "name": "python",
      "nbconvert_exporter": "python",
      "pygments_lexer": "ipython3",
      "version": "3.7.5"
    }
  },
  "cells": [
    {
      "cell_type": "markdown",
      "metadata": {
        "id": "L2fejML3tCfv"
      },
      "source": [
        "<a href=\"https://colab.research.google.com/github/jeffheaton/present/blob/master/youtube/gan_explore.ipynb\" target=\"_parent\"><img src=\"https://colab.research.google.com/assets/colab-badge.svg\" alt=\"Open In Colab\"/></a>"
      ]
    },
    {
      "cell_type": "markdown",
      "metadata": {
        "id": "lzuSQ-tT0caN"
      },
      "source": [
        "# Generating GANs with Desired Features\n",
        "\n",
        "In this notebook I show you you can use GANs to create faces that contain features that you desire.  In this case I wanted to create a Kaggle competition for my students to detect if faces had glasses or not.  This turned out to be a fairly easy Kaggle, but I think the process I used to generate faces with glasses or not is interesting.  You can see the Kaggle here.\n",
        "\n",
        "* [Glasses or Not Kaggle](https://www.kaggle.com/c/applications-of-deep-learningwustl-spring-2020/overview)\n",
        "\n",
        "I used Google CoLab to run this, a GPU is required.\n",
        "\n",
        "You can see a YouTube video on this notebook:\n",
        "\n",
        "* [Controlling if GANs Have Glasses or Not](https://www.kaggle.com/c/applications-of-deep-learningwustl-spring-2020/overview)"
      ]
    },
    {
      "cell_type": "code",
      "metadata": {
        "colab": {
          "base_uri": "https://localhost:8080/"
        },
        "id": "w2dEcHb9tCf6",
        "outputId": "133c01b0-66ce-4a68-e0f3-7d61ec66d657"
      },
      "source": [
        "# Run this for Google CoLab (use TensorFlow 1.x)\n",
        "%tensorflow_version 1.x\n",
        "from google.colab import drive\n",
        "drive.mount('/content/drive', force_remount=True)"
      ],
      "execution_count": 1,
      "outputs": [
        {
          "output_type": "stream",
          "text": [
            "TensorFlow 1.x selected.\n",
            "Mounted at /content/drive\n"
          ],
          "name": "stdout"
        }
      ]
    },
    {
      "cell_type": "markdown",
      "metadata": {
        "id": "icRPLmPKtCf_"
      },
      "source": [
        "Next, clone StyleGAN2 from GitHub."
      ]
    },
    {
      "cell_type": "code",
      "metadata": {
        "colab": {
          "base_uri": "https://localhost:8080/"
        },
        "id": "tB0TryzptCf_",
        "outputId": "c5690e9e-ab83-4db8-9fd4-b05b2fcfbc1e"
      },
      "source": [
        "#!git clone https://github.com/NVlabs/stylegan2.git\n",
        "!git clone https://github.com/mit-han-lab/data-efficient-gans.git"
      ],
      "execution_count": 2,
      "outputs": [
        {
          "output_type": "stream",
          "text": [
            "Cloning into 'data-efficient-gans'...\n",
            "remote: Enumerating objects: 21, done.\u001b[K\n",
            "remote: Counting objects: 100% (21/21), done.\u001b[K\n",
            "remote: Compressing objects: 100% (15/15), done.\u001b[K\n",
            "remote: Total 596 (delta 10), reused 16 (delta 6), pack-reused 575\u001b[K\n",
            "Receiving objects: 100% (596/596), 23.09 MiB | 39.14 MiB/s, done.\n",
            "Resolving deltas: 100% (330/330), done.\n"
          ],
          "name": "stdout"
        }
      ]
    },
    {
      "cell_type": "markdown",
      "metadata": {
        "id": "s1Sh0xmOtCgC"
      },
      "source": [
        "Verify that StyleGAN has been cloned."
      ]
    },
    {
      "cell_type": "code",
      "metadata": {
        "colab": {
          "base_uri": "https://localhost:8080/"
        },
        "id": "wewBEme5tCgD",
        "outputId": "4292f01a-ff97-456f-8534-c2a6b95c2953"
      },
      "source": [
        "!ls /content/data-efficient-gans/DiffAugment-stylegan2/"
      ],
      "execution_count": 4,
      "outputs": [
        {
          "output_type": "stream",
          "text": [
            "DiffAugment_tf.py  generate_gif.py  metrics    run_cifar.py  run_low_shot.py\n",
            "dnnlib\t\t   LICENSE.txt\t    README.md  run_ffhq.py   training\n"
          ],
          "name": "stdout"
        }
      ]
    },
    {
      "cell_type": "markdown",
      "metadata": {
        "id": "D92Md-Hw3eVA"
      },
      "source": [
        "# Run StyleGAN2 From Python Code\n",
        "\n",
        "Add the StyleGAN folder to Python so that you can import it.  The code below is based on code from NVidia. This actually generates your images."
      ]
    },
    {
      "cell_type": "code",
      "metadata": {
        "id": "UgMm1sSutCgH"
      },
      "source": [
        "import sys\n",
        "#sys.path.insert(0, \"/content/stylegan2\")\n",
        "sys.path.insert(0, \"/content/data-efficient-gans/DiffAugment-stylegan2\")\n",
        "\n",
        "import dnnlib"
      ],
      "execution_count": 5,
      "outputs": []
    },
    {
      "cell_type": "code",
      "metadata": {
        "id": "yZcFAjaz3mw1"
      },
      "source": [
        "# Copyright (c) 2019, NVIDIA Corporation. All rights reserved.\n",
        "#\n",
        "# This work is made available under the Nvidia Source Code License-NC.\n",
        "# To view a copy of this license, visit\n",
        "# https://nvlabs.github.io/stylegan2/license.html\n",
        "\n",
        "import argparse\n",
        "import numpy as np\n",
        "import PIL.Image\n",
        "import dnnlib\n",
        "import dnnlib.tflib as tflib\n",
        "import re\n",
        "import sys\n",
        "\n",
        "#import pretrained_networks\n",
        "from training import misc\n",
        "#----------------------------------------------------------------------------\n",
        "\n",
        "def expand_seed(seeds, vector_size):\n",
        "  result = []\n",
        "\n",
        "  for seed in seeds:\n",
        "    rnd = np.random.RandomState(seed)\n",
        "    result.append( rnd.randn(1, vector_size) ) \n",
        "  return result\n",
        "\n",
        "def generate_images(Gs, seeds, truncation_psi, prefix):\n",
        "    noise_vars = [var for name, var in Gs.components.synthesis.vars.items() if name.startswith('noise')]\n",
        "\n",
        "    Gs_kwargs = dnnlib.EasyDict()\n",
        "    Gs_kwargs.output_transform = dict(func=tflib.convert_images_to_uint8, nchw_to_nhwc=True)\n",
        "    Gs_kwargs.randomize_noise = False\n",
        "    if truncation_psi is not None:\n",
        "        Gs_kwargs.truncation_psi = truncation_psi\n",
        "\n",
        "    for seed_idx, seed in enumerate(seeds):\n",
        "        print('Generating image for seed %d/%d ...' % (seed_idx, len(seeds)))\n",
        "        rnd = np.random.RandomState(0)\n",
        "        tflib.set_vars({var: rnd.randn(*var.shape.as_list()) for var in noise_vars}) # [height, width]\n",
        "        images = Gs.run(seed, None, **Gs_kwargs) # [minibatch, height, width, channel]\n",
        "        path = f\"/content/{prefix}-{seed_idx+1}.png\"\n",
        "        PIL.Image.fromarray(images[0], 'RGB').save(path)\n"
      ],
      "execution_count": 10,
      "outputs": []
    },
    {
      "cell_type": "code",
      "metadata": {
        "colab": {
          "base_uri": "https://localhost:8080/"
        },
        "id": "UnxjKdsJKXE5",
        "outputId": "d8c2e963-2df7-4f14-dab7-faec0e9f9a76"
      },
      "source": [
        "sc = dnnlib.SubmitConfig()\n",
        "sc.num_gpus = 1\n",
        "sc.submit_target = dnnlib.SubmitTarget.LOCAL\n",
        "sc.local.do_not_copy_source_files = True\n",
        "sc.run_dir_root = \"/content/drive/My Drive/projects/stylegan2\"\n",
        "sc.run_desc = 'generate-images'\n",
        "network_pkl = '/content/drive/MyDrive/torilarit/network-snapshot-000400.pkl'\n",
        "\n",
        "print('Loading networks from \"%s\"...' % network_pkl)\n",
        "tflib.init_tf({'rnd.np_random_seed': 1000})\n",
        "_, _, Gs = misc.load_pkl(network_pkl)\n",
        "vector_size = Gs.input_shape[1:][0]"
      ],
      "execution_count": 14,
      "outputs": [
        {
          "output_type": "stream",
          "text": [
            "Loading networks from \"/content/drive/MyDrive/torilarit/network-snapshot-000400.pkl\"...\n",
            "Setting up TensorFlow plugin \"fused_bias_act.cu\": Preprocessing... Compiling... Loading... Done.\n",
            "Setting up TensorFlow plugin \"upfirdn_2d.cu\": Preprocessing... Compiling... Loading... Done.\n"
          ],
          "name": "stdout"
        }
      ]
    },
    {
      "cell_type": "markdown",
      "metadata": {
        "id": "3Mma51xe6b7k"
      },
      "source": [
        "# Explore Many GANs\n",
        "\n",
        "The first thing I did was generate many different GAN's randomly.  I am going to choose from those to find ones with the traits that I am looking for."
      ]
    },
    {
      "cell_type": "code",
      "metadata": {
        "id": "BRdAnScjJ6kO"
      },
      "source": [
        "import cv2 \n",
        "from google.colab.patches import cv2_imshow\n",
        "\n",
        "# 8227\n",
        "for i in range(1000):\n",
        "  z = 9200+i\n",
        "  print(z)\n",
        "  seeds = expand_seed([z], vector_size)\n",
        "  generate_images(Gs, seeds, 0.5, \"image\")\n",
        "  img = cv2.imread('/content/image-1.png')   \n",
        "  cv2_imshow(img) "
      ],
      "execution_count": null,
      "outputs": []
    },
    {
      "cell_type": "markdown",
      "metadata": {
        "id": "mujfKN9nRA4E"
      },
      "source": [
        "# Modify Single GAN\n",
        "\n",
        "This section I used mainly to generate the art for the Kaggle.  I wanted to see if I could generate the same person both with and without glasses.  I modified the latent vector until I was able to see the glasses vanish.  Then I minimized the change to the vector until the glasses returned."
      ]
    },
    {
      "cell_type": "code",
      "metadata": {
        "id": "4-J1eTJwRlY8"
      },
      "source": [
        "import cv2 \n",
        "from google.colab.patches import cv2_imshow\n",
        "\n",
        "seeds = expand_seed([9220], vector_size)\n",
        "\n",
        "generate_images(Gs, seeds, 0.5, \"image\")\n",
        "img = cv2.imread('/content/image-1.png')   \n",
        "cv2_imshow(img) "
      ],
      "execution_count": null,
      "outputs": []
    },
    {
      "cell_type": "markdown",
      "metadata": {
        "id": "fhupoEodF9gS"
      },
      "source": [
        "# Explore Elements of Vector\n",
        "\n",
        "This section of code let me explore 10-block sections of the latent vector looking for what part might affect the attribute I desire."
      ]
    },
    {
      "cell_type": "code",
      "metadata": {
        "id": "nJP9Mff_OQQ9"
      },
      "source": [
        "import cv2 \n",
        "from google.colab.patches import cv2_imshow\n",
        "\n",
        "i = 0\n",
        "\n",
        "while i<500:\n",
        "  seeds = expand_seed([9223], vector_size)\n",
        "  seeds[0][0][i:i+10] = -2\n",
        "  print(i)\n",
        "  generate_images(Gs, seeds, 0.5, \"image\")\n",
        "  img = cv2.imread('/content/image-1.png')   \n",
        "  cv2_imshow(img) \n",
        "  i+=10"
      ],
      "execution_count": null,
      "outputs": []
    },
    {
      "cell_type": "code",
      "metadata": {
        "id": "Ddn3LcRFRalk"
      },
      "source": [
        "import cv2 \n",
        "from google.colab.patches import cv2_imshow\n",
        "\n",
        "i = 0\n",
        "\n",
        "seeds = expand_seed([9223], vector_size)\n",
        "#seeds[0][0][410] = -2\n",
        "#seeds[0][0][411] = -2\n",
        "seeds[0][0][412] = -2\n",
        "#seeds[0][0][413] = -2\n",
        "seeds[0][0][414] = -2\n",
        "#seeds[0][0][415] = -2\n",
        "#seeds[0][0][416] = -2\n",
        "#seeds[0][0][417] = -2\n",
        "seeds[0][0][418] -= 1.3\n",
        "#seeds[0][0][419] = -2\n",
        "print(i)\n",
        "generate_images(Gs, seeds, 0.5, \"image\")\n",
        "img = cv2.imread('/content/image-1.png')   \n",
        "cv2_imshow(img) \n",
        "i+=1"
      ],
      "execution_count": null,
      "outputs": []
    },
    {
      "cell_type": "markdown",
      "metadata": {
        "id": "tFSNStt1Zm4V"
      },
      "source": [
        "# What is an Image??"
      ]
    },
    {
      "cell_type": "code",
      "metadata": {
        "colab": {
          "base_uri": "https://localhost:8080/"
        },
        "id": "YpCPDDnr_Oxj",
        "outputId": "15935e31-6833-43ba-a737-8ee1a4c27284"
      },
      "source": [
        "sc = dnnlib.SubmitConfig()\n",
        "sc.num_gpus = 1\n",
        "sc.submit_target = dnnlib.SubmitTarget.LOCAL\n",
        "sc.local.do_not_copy_source_files = True\n",
        "sc.run_dir_root = \"/content/drive/My Drive/projects/stylegan2\"\n",
        "sc.run_desc = 'generate-images'\n",
        "network_pkl = '/content/drive/MyDrive/torilarit/network-snapshot-000400.pkl'\n",
        "\n",
        "print('Loading networks from \"%s\"...' % network_pkl)\n",
        "tflib.init_tf({'rnd.np_random_seed': 1000})\n",
        "_, _, Gs = misc.load_pkl(network_pkl)\n",
        "vector_size = Gs.input_shape[1:][0]"
      ],
      "execution_count": 18,
      "outputs": [
        {
          "output_type": "stream",
          "text": [
            "Loading networks from \"/content/drive/MyDrive/torilarit/network-snapshot-000400.pkl\"...\n"
          ],
          "name": "stdout"
        }
      ]
    },
    {
      "cell_type": "code",
      "metadata": {
        "id": "tM86fWGcZlwJ",
        "colab": {
          "base_uri": "https://localhost:8080/"
        },
        "outputId": "84145586-461a-4857-9a79-1f721d11222e"
      },
      "source": [
        "GLASSES = [9268, 9282, 9286, 9297, 9317, 9321, 9324, 9328, 9346, 9348, 9351, 9355, 9375, 9379, 9408, 9424, 9486, 9489, 9490, 9496, 9499]\n",
        "\n",
        "NO_GLASSES = [x+9200 for x in range(300) if x+9200 not in GLASSES]\n",
        "print (NO_GLASSES)\n",
        "#GLASSES er menn"
      ],
      "execution_count": 35,
      "outputs": [
        {
          "output_type": "stream",
          "text": [
            "[9200, 9201, 9202, 9203, 9204, 9205, 9206, 9207, 9208, 9209, 9210, 9211, 9212, 9213, 9214, 9215, 9216, 9217, 9218, 9219, 9220, 9221, 9222, 9223, 9224, 9225, 9226, 9227, 9228, 9229, 9230, 9231, 9232, 9233, 9234, 9235, 9236, 9237, 9238, 9239, 9240, 9241, 9242, 9243, 9244, 9245, 9246, 9247, 9248, 9249, 9250, 9251, 9252, 9253, 9254, 9255, 9256, 9257, 9258, 9259, 9260, 9261, 9262, 9263, 9264, 9265, 9266, 9267, 9269, 9270, 9271, 9272, 9273, 9274, 9275, 9276, 9277, 9278, 9279, 9280, 9281, 9283, 9284, 9285, 9287, 9288, 9289, 9290, 9291, 9292, 9293, 9294, 9295, 9296, 9298, 9299, 9300, 9301, 9302, 9303, 9304, 9305, 9306, 9307, 9308, 9309, 9310, 9311, 9312, 9313, 9314, 9315, 9316, 9318, 9319, 9320, 9322, 9323, 9325, 9326, 9327, 9329, 9330, 9331, 9332, 9333, 9334, 9335, 9336, 9337, 9338, 9339, 9340, 9341, 9342, 9343, 9344, 9345, 9347, 9349, 9350, 9352, 9353, 9354, 9356, 9357, 9358, 9359, 9360, 9361, 9362, 9363, 9364, 9365, 9366, 9367, 9368, 9369, 9370, 9371, 9372, 9373, 9374, 9376, 9377, 9378, 9380, 9381, 9382, 9383, 9384, 9385, 9386, 9387, 9388, 9389, 9390, 9391, 9392, 9393, 9394, 9395, 9396, 9397, 9398, 9399, 9400, 9401, 9402, 9403, 9404, 9405, 9406, 9407, 9409, 9410, 9411, 9412, 9413, 9414, 9415, 9416, 9417, 9418, 9419, 9420, 9421, 9422, 9423, 9425, 9426, 9427, 9428, 9429, 9430, 9431, 9432, 9433, 9434, 9435, 9436, 9437, 9438, 9439, 9440, 9441, 9442, 9443, 9444, 9445, 9446, 9447, 9448, 9449, 9450, 9451, 9452, 9453, 9454, 9455, 9456, 9457, 9458, 9459, 9460, 9461, 9462, 9463, 9464, 9465, 9466, 9467, 9468, 9469, 9470, 9471, 9472, 9473, 9474, 9475, 9476, 9477, 9478, 9479, 9480, 9481, 9482, 9483, 9484, 9485, 9487, 9488, 9491, 9492, 9493, 9494, 9495, 9497, 9498]\n"
          ],
          "name": "stdout"
        }
      ]
    },
    {
      "cell_type": "code",
      "metadata": {
        "id": "g0aNexJ7dg6q"
      },
      "source": [
        "import random\n",
        "import pandas as pd\n",
        "\n",
        "GEN_SET = GLASSES\n",
        "\n",
        "def generate_set(GEN_SET, count):\n",
        "  seeds3 = []\n",
        "\n",
        "  for i in range(count):\n",
        "    i1 = random.randint(0,len(GEN_SET)-1)\n",
        "    i2 = random.randint(0,len(GEN_SET)-1)\n",
        "    seeds1 = expand_seed([GEN_SET[i1]],vector_size)\n",
        "    seeds2 = expand_seed([GEN_SET[i2]],vector_size)\n",
        "    seeds = [seeds1[0][0], seeds2[0][0]]\n",
        "\n",
        "    diff = seeds[1] - seeds[0]\n",
        "    delta = (np.random.rand(512) * 0.6) + .2\n",
        "    step = diff * delta\n",
        "    current = [seeds[0].copy()]\n",
        "    current += step\n",
        "    current = np.round(current,5)\n",
        "    seeds3.append(current)\n",
        "\n",
        "  seeds4 = [x[0] for x in seeds3]\n",
        "  seeds4 = np.array(seeds4)\n",
        "  return pd.DataFrame(seeds4)\n",
        "\n",
        "\n",
        "\n",
        "#generate_images(Gs, seeds3,0.5,'glasses')\n",
        "\n",
        "df1 = generate_set(GLASSES, int(5000 * .64))\n",
        "df1['glasses'] = 1\n",
        "df2 = generate_set(NO_GLASSES, int(5000 * .36))\n",
        "df2['glasses'] = 0"
      ],
      "execution_count": 36,
      "outputs": []
    },
    {
      "cell_type": "code",
      "metadata": {
        "id": "7OJB8xaDP3Cz"
      },
      "source": [
        "df = pd.concat([df1,df2],ignore_index=True)"
      ],
      "execution_count": 37,
      "outputs": []
    },
    {
      "cell_type": "code",
      "metadata": {
        "id": "gua5CgfSvtoJ"
      },
      "source": [
        "v_cols2 = [f'v{i+1}' for i in range(512)]\n",
        "cols2 = v_cols2.copy()\n",
        "cols2.append('glasses')\n",
        "df.columns = cols2\n",
        "df = df.reindex(np.random.permutation(df.index))\n",
        "df.insert(0, 'id', range(1,len(df)+1))"
      ],
      "execution_count": 38,
      "outputs": []
    },
    {
      "cell_type": "code",
      "metadata": {
        "id": "Ayo_-tiuVXpW"
      },
      "source": [
        "l = len(df)\n",
        "sz = int(l*.9)\n",
        "df_train = df[0:sz].copy()\n",
        "df_test = df[sz:].copy()\n",
        "df_test.drop('glasses',axis=1,inplace=True)\n",
        "df_solution = df[sz:].copy()\n",
        "df_sample = df_test.copy()\n",
        "df_sample['glasses'] = 0.64"
      ],
      "execution_count": 39,
      "outputs": []
    },
    {
      "cell_type": "code",
      "metadata": {
        "id": "XIzP-YoXL7OQ"
      },
      "source": [
        "df_train.to_csv('/content/train.csv',index=False)\n",
        "df_test.to_csv('/content/test.csv',index=False)\n",
        "df_solution.to_csv('/content/solution.csv',index=False)\n",
        "df_sample.to_csv('/content/sample.csv',index=False)\n"
      ],
      "execution_count": 40,
      "outputs": []
    },
    {
      "cell_type": "markdown",
      "metadata": {
        "id": "zLUU78QHscjj"
      },
      "source": [
        "# Build Images"
      ]
    },
    {
      "cell_type": "code",
      "metadata": {
        "colab": {
          "base_uri": "https://localhost:8080/"
        },
        "id": "jNx9GWelxKd4",
        "outputId": "348a05a6-320d-4b75-9385-5b48109721a3"
      },
      "source": [
        "df.shape"
      ],
      "execution_count": 41,
      "outputs": [
        {
          "output_type": "execute_result",
          "data": {
            "text/plain": [
              "(5000, 514)"
            ]
          },
          "metadata": {
            "tags": []
          },
          "execution_count": 41
        }
      ]
    },
    {
      "cell_type": "code",
      "metadata": {
        "colab": {
          "base_uri": "https://localhost:8080/",
          "height": 1000
        },
        "id": "TgPfMRgHsf-B",
        "outputId": "5bc247b0-fd92-4d2c-df0b-95c9b6b1bf15"
      },
      "source": [
        "seeds = df[v_cols2].values\n",
        "seeds = [x.reshape([1,512]) for x in seeds]\n",
        "generate_images(Gs, seeds,0.5,\"face\")"
      ],
      "execution_count": 42,
      "outputs": [
        {
          "output_type": "stream",
          "text": [
            "Generating image for seed 0/5000 ...\n",
            "Generating image for seed 1/5000 ...\n",
            "Generating image for seed 2/5000 ...\n",
            "Generating image for seed 3/5000 ...\n",
            "Generating image for seed 4/5000 ...\n",
            "Generating image for seed 5/5000 ...\n",
            "Generating image for seed 6/5000 ...\n",
            "Generating image for seed 7/5000 ...\n",
            "Generating image for seed 8/5000 ...\n",
            "Generating image for seed 9/5000 ...\n",
            "Generating image for seed 10/5000 ...\n",
            "Generating image for seed 11/5000 ...\n",
            "Generating image for seed 12/5000 ...\n",
            "Generating image for seed 13/5000 ...\n",
            "Generating image for seed 14/5000 ...\n",
            "Generating image for seed 15/5000 ...\n",
            "Generating image for seed 16/5000 ...\n",
            "Generating image for seed 17/5000 ...\n",
            "Generating image for seed 18/5000 ...\n",
            "Generating image for seed 19/5000 ...\n",
            "Generating image for seed 20/5000 ...\n",
            "Generating image for seed 21/5000 ...\n",
            "Generating image for seed 22/5000 ...\n",
            "Generating image for seed 23/5000 ...\n",
            "Generating image for seed 24/5000 ...\n",
            "Generating image for seed 25/5000 ...\n",
            "Generating image for seed 26/5000 ...\n",
            "Generating image for seed 27/5000 ...\n",
            "Generating image for seed 28/5000 ...\n",
            "Generating image for seed 29/5000 ...\n",
            "Generating image for seed 30/5000 ...\n",
            "Generating image for seed 31/5000 ...\n",
            "Generating image for seed 32/5000 ...\n",
            "Generating image for seed 33/5000 ...\n",
            "Generating image for seed 34/5000 ...\n",
            "Generating image for seed 35/5000 ...\n",
            "Generating image for seed 36/5000 ...\n",
            "Generating image for seed 37/5000 ...\n",
            "Generating image for seed 38/5000 ...\n",
            "Generating image for seed 39/5000 ...\n",
            "Generating image for seed 40/5000 ...\n",
            "Generating image for seed 41/5000 ...\n",
            "Generating image for seed 42/5000 ...\n",
            "Generating image for seed 43/5000 ...\n",
            "Generating image for seed 44/5000 ...\n",
            "Generating image for seed 45/5000 ...\n",
            "Generating image for seed 46/5000 ...\n",
            "Generating image for seed 47/5000 ...\n",
            "Generating image for seed 48/5000 ...\n",
            "Generating image for seed 49/5000 ...\n",
            "Generating image for seed 50/5000 ...\n",
            "Generating image for seed 51/5000 ...\n",
            "Generating image for seed 52/5000 ...\n",
            "Generating image for seed 53/5000 ...\n",
            "Generating image for seed 54/5000 ...\n",
            "Generating image for seed 55/5000 ...\n",
            "Generating image for seed 56/5000 ...\n",
            "Generating image for seed 57/5000 ...\n",
            "Generating image for seed 58/5000 ...\n",
            "Generating image for seed 59/5000 ...\n",
            "Generating image for seed 60/5000 ...\n",
            "Generating image for seed 61/5000 ...\n",
            "Generating image for seed 62/5000 ...\n",
            "Generating image for seed 63/5000 ...\n",
            "Generating image for seed 64/5000 ...\n",
            "Generating image for seed 65/5000 ...\n",
            "Generating image for seed 66/5000 ...\n",
            "Generating image for seed 67/5000 ...\n",
            "Generating image for seed 68/5000 ...\n",
            "Generating image for seed 69/5000 ...\n",
            "Generating image for seed 70/5000 ...\n",
            "Generating image for seed 71/5000 ...\n",
            "Generating image for seed 72/5000 ...\n",
            "Generating image for seed 73/5000 ...\n",
            "Generating image for seed 74/5000 ...\n",
            "Generating image for seed 75/5000 ...\n",
            "Generating image for seed 76/5000 ...\n",
            "Generating image for seed 77/5000 ...\n",
            "Generating image for seed 78/5000 ...\n",
            "Generating image for seed 79/5000 ...\n",
            "Generating image for seed 80/5000 ...\n",
            "Generating image for seed 81/5000 ...\n",
            "Generating image for seed 82/5000 ...\n",
            "Generating image for seed 83/5000 ...\n",
            "Generating image for seed 84/5000 ...\n",
            "Generating image for seed 85/5000 ...\n",
            "Generating image for seed 86/5000 ...\n",
            "Generating image for seed 87/5000 ...\n",
            "Generating image for seed 88/5000 ...\n",
            "Generating image for seed 89/5000 ...\n",
            "Generating image for seed 90/5000 ...\n",
            "Generating image for seed 91/5000 ...\n",
            "Generating image for seed 92/5000 ...\n",
            "Generating image for seed 93/5000 ...\n",
            "Generating image for seed 94/5000 ...\n",
            "Generating image for seed 95/5000 ...\n",
            "Generating image for seed 96/5000 ...\n",
            "Generating image for seed 97/5000 ...\n",
            "Generating image for seed 98/5000 ...\n",
            "Generating image for seed 99/5000 ...\n",
            "Generating image for seed 100/5000 ...\n",
            "Generating image for seed 101/5000 ...\n",
            "Generating image for seed 102/5000 ...\n",
            "Generating image for seed 103/5000 ...\n",
            "Generating image for seed 104/5000 ...\n",
            "Generating image for seed 105/5000 ...\n",
            "Generating image for seed 106/5000 ...\n",
            "Generating image for seed 107/5000 ...\n",
            "Generating image for seed 108/5000 ...\n",
            "Generating image for seed 109/5000 ...\n",
            "Generating image for seed 110/5000 ...\n",
            "Generating image for seed 111/5000 ...\n",
            "Generating image for seed 112/5000 ...\n",
            "Generating image for seed 113/5000 ...\n",
            "Generating image for seed 114/5000 ...\n",
            "Generating image for seed 115/5000 ...\n",
            "Generating image for seed 116/5000 ...\n",
            "Generating image for seed 117/5000 ...\n",
            "Generating image for seed 118/5000 ...\n",
            "Generating image for seed 119/5000 ...\n",
            "Generating image for seed 120/5000 ...\n",
            "Generating image for seed 121/5000 ...\n",
            "Generating image for seed 122/5000 ...\n",
            "Generating image for seed 123/5000 ...\n",
            "Generating image for seed 124/5000 ...\n",
            "Generating image for seed 125/5000 ...\n",
            "Generating image for seed 126/5000 ...\n",
            "Generating image for seed 127/5000 ...\n",
            "Generating image for seed 128/5000 ...\n",
            "Generating image for seed 129/5000 ...\n",
            "Generating image for seed 130/5000 ...\n",
            "Generating image for seed 131/5000 ...\n",
            "Generating image for seed 132/5000 ...\n",
            "Generating image for seed 133/5000 ...\n",
            "Generating image for seed 134/5000 ...\n",
            "Generating image for seed 135/5000 ...\n",
            "Generating image for seed 136/5000 ...\n",
            "Generating image for seed 137/5000 ...\n",
            "Generating image for seed 138/5000 ...\n",
            "Generating image for seed 139/5000 ...\n",
            "Generating image for seed 140/5000 ...\n",
            "Generating image for seed 141/5000 ...\n",
            "Generating image for seed 142/5000 ...\n",
            "Generating image for seed 143/5000 ...\n",
            "Generating image for seed 144/5000 ...\n",
            "Generating image for seed 145/5000 ...\n",
            "Generating image for seed 146/5000 ...\n",
            "Generating image for seed 147/5000 ...\n",
            "Generating image for seed 148/5000 ...\n",
            "Generating image for seed 149/5000 ...\n",
            "Generating image for seed 150/5000 ...\n",
            "Generating image for seed 151/5000 ...\n",
            "Generating image for seed 152/5000 ...\n",
            "Generating image for seed 153/5000 ...\n",
            "Generating image for seed 154/5000 ...\n",
            "Generating image for seed 155/5000 ...\n",
            "Generating image for seed 156/5000 ...\n",
            "Generating image for seed 157/5000 ...\n",
            "Generating image for seed 158/5000 ...\n",
            "Generating image for seed 159/5000 ...\n",
            "Generating image for seed 160/5000 ...\n",
            "Generating image for seed 161/5000 ...\n",
            "Generating image for seed 162/5000 ...\n",
            "Generating image for seed 163/5000 ...\n",
            "Generating image for seed 164/5000 ...\n",
            "Generating image for seed 165/5000 ...\n",
            "Generating image for seed 166/5000 ...\n",
            "Generating image for seed 167/5000 ...\n",
            "Generating image for seed 168/5000 ...\n",
            "Generating image for seed 169/5000 ...\n"
          ],
          "name": "stdout"
        },
        {
          "output_type": "error",
          "ename": "KeyboardInterrupt",
          "evalue": "ignored",
          "traceback": [
            "\u001b[0;31m---------------------------------------------------------------------------\u001b[0m",
            "\u001b[0;31mKeyboardInterrupt\u001b[0m                         Traceback (most recent call last)",
            "\u001b[0;32m<ipython-input-42-11e8cda85d74>\u001b[0m in \u001b[0;36m<module>\u001b[0;34m()\u001b[0m\n\u001b[1;32m      1\u001b[0m \u001b[0mseeds\u001b[0m \u001b[0;34m=\u001b[0m \u001b[0mdf\u001b[0m\u001b[0;34m[\u001b[0m\u001b[0mv_cols2\u001b[0m\u001b[0;34m]\u001b[0m\u001b[0;34m.\u001b[0m\u001b[0mvalues\u001b[0m\u001b[0;34m\u001b[0m\u001b[0;34m\u001b[0m\u001b[0m\n\u001b[1;32m      2\u001b[0m \u001b[0mseeds\u001b[0m \u001b[0;34m=\u001b[0m \u001b[0;34m[\u001b[0m\u001b[0mx\u001b[0m\u001b[0;34m.\u001b[0m\u001b[0mreshape\u001b[0m\u001b[0;34m(\u001b[0m\u001b[0;34m[\u001b[0m\u001b[0;36m1\u001b[0m\u001b[0;34m,\u001b[0m\u001b[0;36m512\u001b[0m\u001b[0;34m]\u001b[0m\u001b[0;34m)\u001b[0m \u001b[0;32mfor\u001b[0m \u001b[0mx\u001b[0m \u001b[0;32min\u001b[0m \u001b[0mseeds\u001b[0m\u001b[0;34m]\u001b[0m\u001b[0;34m\u001b[0m\u001b[0;34m\u001b[0m\u001b[0m\n\u001b[0;32m----> 3\u001b[0;31m \u001b[0mgenerate_images\u001b[0m\u001b[0;34m(\u001b[0m\u001b[0mGs\u001b[0m\u001b[0;34m,\u001b[0m \u001b[0mseeds\u001b[0m\u001b[0;34m,\u001b[0m\u001b[0;36m0.5\u001b[0m\u001b[0;34m,\u001b[0m\u001b[0;34m\"face\"\u001b[0m\u001b[0;34m)\u001b[0m\u001b[0;34m\u001b[0m\u001b[0;34m\u001b[0m\u001b[0m\n\u001b[0m",
            "\u001b[0;32m<ipython-input-10-0556807c8e16>\u001b[0m in \u001b[0;36mgenerate_images\u001b[0;34m(Gs, seeds, truncation_psi, prefix)\u001b[0m\n\u001b[1;32m     38\u001b[0m         \u001b[0mrnd\u001b[0m \u001b[0;34m=\u001b[0m \u001b[0mnp\u001b[0m\u001b[0;34m.\u001b[0m\u001b[0mrandom\u001b[0m\u001b[0;34m.\u001b[0m\u001b[0mRandomState\u001b[0m\u001b[0;34m(\u001b[0m\u001b[0;36m0\u001b[0m\u001b[0;34m)\u001b[0m\u001b[0;34m\u001b[0m\u001b[0;34m\u001b[0m\u001b[0m\n\u001b[1;32m     39\u001b[0m         \u001b[0mtflib\u001b[0m\u001b[0;34m.\u001b[0m\u001b[0mset_vars\u001b[0m\u001b[0;34m(\u001b[0m\u001b[0;34m{\u001b[0m\u001b[0mvar\u001b[0m\u001b[0;34m:\u001b[0m \u001b[0mrnd\u001b[0m\u001b[0;34m.\u001b[0m\u001b[0mrandn\u001b[0m\u001b[0;34m(\u001b[0m\u001b[0;34m*\u001b[0m\u001b[0mvar\u001b[0m\u001b[0;34m.\u001b[0m\u001b[0mshape\u001b[0m\u001b[0;34m.\u001b[0m\u001b[0mas_list\u001b[0m\u001b[0;34m(\u001b[0m\u001b[0;34m)\u001b[0m\u001b[0;34m)\u001b[0m \u001b[0;32mfor\u001b[0m \u001b[0mvar\u001b[0m \u001b[0;32min\u001b[0m \u001b[0mnoise_vars\u001b[0m\u001b[0;34m}\u001b[0m\u001b[0;34m)\u001b[0m \u001b[0;31m# [height, width]\u001b[0m\u001b[0;34m\u001b[0m\u001b[0;34m\u001b[0m\u001b[0m\n\u001b[0;32m---> 40\u001b[0;31m         \u001b[0mimages\u001b[0m \u001b[0;34m=\u001b[0m \u001b[0mGs\u001b[0m\u001b[0;34m.\u001b[0m\u001b[0mrun\u001b[0m\u001b[0;34m(\u001b[0m\u001b[0mseed\u001b[0m\u001b[0;34m,\u001b[0m \u001b[0;32mNone\u001b[0m\u001b[0;34m,\u001b[0m \u001b[0;34m**\u001b[0m\u001b[0mGs_kwargs\u001b[0m\u001b[0;34m)\u001b[0m \u001b[0;31m# [minibatch, height, width, channel]\u001b[0m\u001b[0;34m\u001b[0m\u001b[0;34m\u001b[0m\u001b[0m\n\u001b[0m\u001b[1;32m     41\u001b[0m         \u001b[0mpath\u001b[0m \u001b[0;34m=\u001b[0m \u001b[0;34mf\"/content/{prefix}-{seed_idx+1}.png\"\u001b[0m\u001b[0;34m\u001b[0m\u001b[0;34m\u001b[0m\u001b[0m\n\u001b[1;32m     42\u001b[0m         \u001b[0mPIL\u001b[0m\u001b[0;34m.\u001b[0m\u001b[0mImage\u001b[0m\u001b[0;34m.\u001b[0m\u001b[0mfromarray\u001b[0m\u001b[0;34m(\u001b[0m\u001b[0mimages\u001b[0m\u001b[0;34m[\u001b[0m\u001b[0;36m0\u001b[0m\u001b[0;34m]\u001b[0m\u001b[0;34m,\u001b[0m \u001b[0;34m'RGB'\u001b[0m\u001b[0;34m)\u001b[0m\u001b[0;34m.\u001b[0m\u001b[0msave\u001b[0m\u001b[0;34m(\u001b[0m\u001b[0mpath\u001b[0m\u001b[0;34m)\u001b[0m\u001b[0;34m\u001b[0m\u001b[0;34m\u001b[0m\u001b[0m\n",
            "\u001b[0;32m/content/data-efficient-gans/DiffAugment-stylegan2/dnnlib/tflib/network.py\u001b[0m in \u001b[0;36mrun\u001b[0;34m(self, input_transform, output_transform, return_as_list, print_progress, minibatch_size, num_gpus, assume_frozen, *in_arrays, **dynamic_kwargs)\u001b[0m\n\u001b[1;32m    440\u001b[0m             \u001b[0mmb_num\u001b[0m \u001b[0;34m=\u001b[0m \u001b[0mmb_end\u001b[0m \u001b[0;34m-\u001b[0m \u001b[0mmb_begin\u001b[0m\u001b[0;34m\u001b[0m\u001b[0;34m\u001b[0m\u001b[0m\n\u001b[1;32m    441\u001b[0m             \u001b[0mmb_in\u001b[0m \u001b[0;34m=\u001b[0m \u001b[0;34m[\u001b[0m\u001b[0msrc\u001b[0m\u001b[0;34m[\u001b[0m\u001b[0mmb_begin\u001b[0m \u001b[0;34m:\u001b[0m \u001b[0mmb_end\u001b[0m\u001b[0;34m]\u001b[0m \u001b[0;32mif\u001b[0m \u001b[0msrc\u001b[0m \u001b[0;32mis\u001b[0m \u001b[0;32mnot\u001b[0m \u001b[0;32mNone\u001b[0m \u001b[0;32melse\u001b[0m \u001b[0mnp\u001b[0m\u001b[0;34m.\u001b[0m\u001b[0mzeros\u001b[0m\u001b[0;34m(\u001b[0m\u001b[0;34m[\u001b[0m\u001b[0mmb_num\u001b[0m\u001b[0;34m]\u001b[0m \u001b[0;34m+\u001b[0m \u001b[0mshape\u001b[0m\u001b[0;34m[\u001b[0m\u001b[0;36m1\u001b[0m\u001b[0;34m:\u001b[0m\u001b[0;34m]\u001b[0m\u001b[0;34m)\u001b[0m \u001b[0;32mfor\u001b[0m \u001b[0msrc\u001b[0m\u001b[0;34m,\u001b[0m \u001b[0mshape\u001b[0m \u001b[0;32min\u001b[0m \u001b[0mzip\u001b[0m\u001b[0;34m(\u001b[0m\u001b[0min_arrays\u001b[0m\u001b[0;34m,\u001b[0m \u001b[0mself\u001b[0m\u001b[0;34m.\u001b[0m\u001b[0minput_shapes\u001b[0m\u001b[0;34m)\u001b[0m\u001b[0;34m]\u001b[0m\u001b[0;34m\u001b[0m\u001b[0;34m\u001b[0m\u001b[0m\n\u001b[0;32m--> 442\u001b[0;31m             \u001b[0mmb_out\u001b[0m \u001b[0;34m=\u001b[0m \u001b[0mtf\u001b[0m\u001b[0;34m.\u001b[0m\u001b[0mget_default_session\u001b[0m\u001b[0;34m(\u001b[0m\u001b[0;34m)\u001b[0m\u001b[0;34m.\u001b[0m\u001b[0mrun\u001b[0m\u001b[0;34m(\u001b[0m\u001b[0mout_expr\u001b[0m\u001b[0;34m,\u001b[0m \u001b[0mdict\u001b[0m\u001b[0;34m(\u001b[0m\u001b[0mzip\u001b[0m\u001b[0;34m(\u001b[0m\u001b[0min_expr\u001b[0m\u001b[0;34m,\u001b[0m \u001b[0mmb_in\u001b[0m\u001b[0;34m)\u001b[0m\u001b[0;34m)\u001b[0m\u001b[0;34m)\u001b[0m\u001b[0;34m\u001b[0m\u001b[0;34m\u001b[0m\u001b[0m\n\u001b[0m\u001b[1;32m    443\u001b[0m \u001b[0;34m\u001b[0m\u001b[0m\n\u001b[1;32m    444\u001b[0m             \u001b[0;32mfor\u001b[0m \u001b[0mdst\u001b[0m\u001b[0;34m,\u001b[0m \u001b[0msrc\u001b[0m \u001b[0;32min\u001b[0m \u001b[0mzip\u001b[0m\u001b[0;34m(\u001b[0m\u001b[0mout_arrays\u001b[0m\u001b[0;34m,\u001b[0m \u001b[0mmb_out\u001b[0m\u001b[0;34m)\u001b[0m\u001b[0;34m:\u001b[0m\u001b[0;34m\u001b[0m\u001b[0;34m\u001b[0m\u001b[0m\n",
            "\u001b[0;32m/tensorflow-1.15.2/python3.6/tensorflow_core/python/client/session.py\u001b[0m in \u001b[0;36mrun\u001b[0;34m(self, fetches, feed_dict, options, run_metadata)\u001b[0m\n\u001b[1;32m    954\u001b[0m     \u001b[0;32mtry\u001b[0m\u001b[0;34m:\u001b[0m\u001b[0;34m\u001b[0m\u001b[0;34m\u001b[0m\u001b[0m\n\u001b[1;32m    955\u001b[0m       result = self._run(None, fetches, feed_dict, options_ptr,\n\u001b[0;32m--> 956\u001b[0;31m                          run_metadata_ptr)\n\u001b[0m\u001b[1;32m    957\u001b[0m       \u001b[0;32mif\u001b[0m \u001b[0mrun_metadata\u001b[0m\u001b[0;34m:\u001b[0m\u001b[0;34m\u001b[0m\u001b[0;34m\u001b[0m\u001b[0m\n\u001b[1;32m    958\u001b[0m         \u001b[0mproto_data\u001b[0m \u001b[0;34m=\u001b[0m \u001b[0mtf_session\u001b[0m\u001b[0;34m.\u001b[0m\u001b[0mTF_GetBuffer\u001b[0m\u001b[0;34m(\u001b[0m\u001b[0mrun_metadata_ptr\u001b[0m\u001b[0;34m)\u001b[0m\u001b[0;34m\u001b[0m\u001b[0;34m\u001b[0m\u001b[0m\n",
            "\u001b[0;32m/tensorflow-1.15.2/python3.6/tensorflow_core/python/client/session.py\u001b[0m in \u001b[0;36m_run\u001b[0;34m(self, handle, fetches, feed_dict, options, run_metadata)\u001b[0m\n\u001b[1;32m   1178\u001b[0m     \u001b[0;32mif\u001b[0m \u001b[0mfinal_fetches\u001b[0m \u001b[0;32mor\u001b[0m \u001b[0mfinal_targets\u001b[0m \u001b[0;32mor\u001b[0m \u001b[0;34m(\u001b[0m\u001b[0mhandle\u001b[0m \u001b[0;32mand\u001b[0m \u001b[0mfeed_dict_tensor\u001b[0m\u001b[0;34m)\u001b[0m\u001b[0;34m:\u001b[0m\u001b[0;34m\u001b[0m\u001b[0;34m\u001b[0m\u001b[0m\n\u001b[1;32m   1179\u001b[0m       results = self._do_run(handle, final_targets, final_fetches,\n\u001b[0;32m-> 1180\u001b[0;31m                              feed_dict_tensor, options, run_metadata)\n\u001b[0m\u001b[1;32m   1181\u001b[0m     \u001b[0;32melse\u001b[0m\u001b[0;34m:\u001b[0m\u001b[0;34m\u001b[0m\u001b[0;34m\u001b[0m\u001b[0m\n\u001b[1;32m   1182\u001b[0m       \u001b[0mresults\u001b[0m \u001b[0;34m=\u001b[0m \u001b[0;34m[\u001b[0m\u001b[0;34m]\u001b[0m\u001b[0;34m\u001b[0m\u001b[0;34m\u001b[0m\u001b[0m\n",
            "\u001b[0;32m/tensorflow-1.15.2/python3.6/tensorflow_core/python/client/session.py\u001b[0m in \u001b[0;36m_do_run\u001b[0;34m(self, handle, target_list, fetch_list, feed_dict, options, run_metadata)\u001b[0m\n\u001b[1;32m   1357\u001b[0m     \u001b[0;32mif\u001b[0m \u001b[0mhandle\u001b[0m \u001b[0;32mis\u001b[0m \u001b[0;32mNone\u001b[0m\u001b[0;34m:\u001b[0m\u001b[0;34m\u001b[0m\u001b[0;34m\u001b[0m\u001b[0m\n\u001b[1;32m   1358\u001b[0m       return self._do_call(_run_fn, feeds, fetches, targets, options,\n\u001b[0;32m-> 1359\u001b[0;31m                            run_metadata)\n\u001b[0m\u001b[1;32m   1360\u001b[0m     \u001b[0;32melse\u001b[0m\u001b[0;34m:\u001b[0m\u001b[0;34m\u001b[0m\u001b[0;34m\u001b[0m\u001b[0m\n\u001b[1;32m   1361\u001b[0m       \u001b[0;32mreturn\u001b[0m \u001b[0mself\u001b[0m\u001b[0;34m.\u001b[0m\u001b[0m_do_call\u001b[0m\u001b[0;34m(\u001b[0m\u001b[0m_prun_fn\u001b[0m\u001b[0;34m,\u001b[0m \u001b[0mhandle\u001b[0m\u001b[0;34m,\u001b[0m \u001b[0mfeeds\u001b[0m\u001b[0;34m,\u001b[0m \u001b[0mfetches\u001b[0m\u001b[0;34m)\u001b[0m\u001b[0;34m\u001b[0m\u001b[0;34m\u001b[0m\u001b[0m\n",
            "\u001b[0;32m/tensorflow-1.15.2/python3.6/tensorflow_core/python/client/session.py\u001b[0m in \u001b[0;36m_do_call\u001b[0;34m(self, fn, *args)\u001b[0m\n\u001b[1;32m   1363\u001b[0m   \u001b[0;32mdef\u001b[0m \u001b[0m_do_call\u001b[0m\u001b[0;34m(\u001b[0m\u001b[0mself\u001b[0m\u001b[0;34m,\u001b[0m \u001b[0mfn\u001b[0m\u001b[0;34m,\u001b[0m \u001b[0;34m*\u001b[0m\u001b[0margs\u001b[0m\u001b[0;34m)\u001b[0m\u001b[0;34m:\u001b[0m\u001b[0;34m\u001b[0m\u001b[0;34m\u001b[0m\u001b[0m\n\u001b[1;32m   1364\u001b[0m     \u001b[0;32mtry\u001b[0m\u001b[0;34m:\u001b[0m\u001b[0;34m\u001b[0m\u001b[0;34m\u001b[0m\u001b[0m\n\u001b[0;32m-> 1365\u001b[0;31m       \u001b[0;32mreturn\u001b[0m \u001b[0mfn\u001b[0m\u001b[0;34m(\u001b[0m\u001b[0;34m*\u001b[0m\u001b[0margs\u001b[0m\u001b[0;34m)\u001b[0m\u001b[0;34m\u001b[0m\u001b[0;34m\u001b[0m\u001b[0m\n\u001b[0m\u001b[1;32m   1366\u001b[0m     \u001b[0;32mexcept\u001b[0m \u001b[0merrors\u001b[0m\u001b[0;34m.\u001b[0m\u001b[0mOpError\u001b[0m \u001b[0;32mas\u001b[0m \u001b[0me\u001b[0m\u001b[0;34m:\u001b[0m\u001b[0;34m\u001b[0m\u001b[0;34m\u001b[0m\u001b[0m\n\u001b[1;32m   1367\u001b[0m       \u001b[0mmessage\u001b[0m \u001b[0;34m=\u001b[0m \u001b[0mcompat\u001b[0m\u001b[0;34m.\u001b[0m\u001b[0mas_text\u001b[0m\u001b[0;34m(\u001b[0m\u001b[0me\u001b[0m\u001b[0;34m.\u001b[0m\u001b[0mmessage\u001b[0m\u001b[0;34m)\u001b[0m\u001b[0;34m\u001b[0m\u001b[0;34m\u001b[0m\u001b[0m\n",
            "\u001b[0;32m/tensorflow-1.15.2/python3.6/tensorflow_core/python/client/session.py\u001b[0m in \u001b[0;36m_run_fn\u001b[0;34m(feed_dict, fetch_list, target_list, options, run_metadata)\u001b[0m\n\u001b[1;32m   1348\u001b[0m       \u001b[0mself\u001b[0m\u001b[0;34m.\u001b[0m\u001b[0m_extend_graph\u001b[0m\u001b[0;34m(\u001b[0m\u001b[0;34m)\u001b[0m\u001b[0;34m\u001b[0m\u001b[0;34m\u001b[0m\u001b[0m\n\u001b[1;32m   1349\u001b[0m       return self._call_tf_sessionrun(options, feed_dict, fetch_list,\n\u001b[0;32m-> 1350\u001b[0;31m                                       target_list, run_metadata)\n\u001b[0m\u001b[1;32m   1351\u001b[0m \u001b[0;34m\u001b[0m\u001b[0m\n\u001b[1;32m   1352\u001b[0m     \u001b[0;32mdef\u001b[0m \u001b[0m_prun_fn\u001b[0m\u001b[0;34m(\u001b[0m\u001b[0mhandle\u001b[0m\u001b[0;34m,\u001b[0m \u001b[0mfeed_dict\u001b[0m\u001b[0;34m,\u001b[0m \u001b[0mfetch_list\u001b[0m\u001b[0;34m)\u001b[0m\u001b[0;34m:\u001b[0m\u001b[0;34m\u001b[0m\u001b[0;34m\u001b[0m\u001b[0m\n",
            "\u001b[0;32m/tensorflow-1.15.2/python3.6/tensorflow_core/python/client/session.py\u001b[0m in \u001b[0;36m_call_tf_sessionrun\u001b[0;34m(self, options, feed_dict, fetch_list, target_list, run_metadata)\u001b[0m\n\u001b[1;32m   1441\u001b[0m     return tf_session.TF_SessionRun_wrapper(self._session, options, feed_dict,\n\u001b[1;32m   1442\u001b[0m                                             \u001b[0mfetch_list\u001b[0m\u001b[0;34m,\u001b[0m \u001b[0mtarget_list\u001b[0m\u001b[0;34m,\u001b[0m\u001b[0;34m\u001b[0m\u001b[0;34m\u001b[0m\u001b[0m\n\u001b[0;32m-> 1443\u001b[0;31m                                             run_metadata)\n\u001b[0m\u001b[1;32m   1444\u001b[0m \u001b[0;34m\u001b[0m\u001b[0m\n\u001b[1;32m   1445\u001b[0m   \u001b[0;32mdef\u001b[0m \u001b[0m_call_tf_sessionprun\u001b[0m\u001b[0;34m(\u001b[0m\u001b[0mself\u001b[0m\u001b[0;34m,\u001b[0m \u001b[0mhandle\u001b[0m\u001b[0;34m,\u001b[0m \u001b[0mfeed_dict\u001b[0m\u001b[0;34m,\u001b[0m \u001b[0mfetch_list\u001b[0m\u001b[0;34m)\u001b[0m\u001b[0;34m:\u001b[0m\u001b[0;34m\u001b[0m\u001b[0;34m\u001b[0m\u001b[0m\n",
            "\u001b[0;31mKeyboardInterrupt\u001b[0m: "
          ]
        }
      ]
    },
    {
      "cell_type": "code",
      "metadata": {
        "id": "6FjLp4_zx6ss"
      },
      "source": [
        ""
      ],
      "execution_count": null,
      "outputs": []
    },
    {
      "cell_type": "code",
      "metadata": {
        "colab": {
          "base_uri": "https://localhost:8080/"
        },
        "id": "6Pfymq3qqFEI",
        "outputId": "08345261-c296-4d7b-c69d-ebd0a3d29c76"
      },
      "source": [
        "!zip /content/drive/My\\ Drive/torilarit/images.zip /content/*"
      ],
      "execution_count": 43,
      "outputs": [
        {
          "output_type": "stream",
          "text": [
            "updating: content/data-efficient-gans/ (stored 0%)\n",
            "updating: content/drive/ (stored 0%)\n",
            "updating: content/face-100.png (deflated 0%)\n",
            "updating: content/face-101.png (deflated 0%)\n",
            "updating: content/face-102.png (deflated 0%)\n",
            "updating: content/face-103.png (deflated 0%)\n",
            "updating: content/face-104.png (deflated 0%)\n",
            "updating: content/face-105.png (deflated 0%)\n",
            "updating: content/face-106.png (deflated 0%)\n",
            "updating: content/face-107.png (deflated 0%)\n",
            "updating: content/face-108.png (deflated 0%)\n",
            "updating: content/face-109.png (deflated 0%)\n",
            "updating: content/face-10.png (deflated 0%)\n",
            "updating: content/face-110.png (deflated 0%)\n",
            "updating: content/face-111.png (deflated 0%)\n",
            "updating: content/face-112.png (deflated 0%)\n",
            "updating: content/face-113.png (deflated 0%)\n",
            "updating: content/face-114.png (deflated 0%)\n",
            "updating: content/face-115.png (deflated 0%)\n",
            "updating: content/face-116.png (deflated 0%)\n",
            "updating: content/face-117.png (deflated 0%)\n",
            "updating: content/face-118.png (deflated 0%)\n",
            "updating: content/face-119.png (deflated 0%)\n",
            "updating: content/face-11.png (deflated 0%)\n",
            "updating: content/face-120.png (deflated 0%)\n",
            "updating: content/face-121.png (deflated 0%)\n",
            "updating: content/face-122.png (deflated 0%)\n",
            "updating: content/face-123.png (deflated 0%)\n",
            "updating: content/face-124.png (deflated 0%)\n",
            "updating: content/face-125.png (deflated 0%)\n",
            "updating: content/face-126.png (deflated 0%)\n",
            "updating: content/face-127.png (deflated 0%)\n",
            "updating: content/face-128.png (deflated 0%)\n",
            "updating: content/face-129.png (deflated 0%)\n",
            "updating: content/face-12.png (deflated 0%)\n",
            "updating: content/face-130.png (deflated 0%)\n",
            "updating: content/face-131.png (deflated 0%)\n",
            "updating: content/face-132.png (deflated 0%)\n",
            "updating: content/face-133.png (deflated 0%)\n",
            "updating: content/face-134.png (deflated 0%)\n",
            "updating: content/face-135.png (deflated 0%)\n",
            "updating: content/face-136.png (deflated 0%)\n",
            "updating: content/face-137.png (deflated 0%)\n",
            "updating: content/face-138.png (deflated 0%)\n",
            "updating: content/face-139.png (deflated 0%)\n",
            "updating: content/face-13.png (deflated 0%)\n",
            "updating: content/face-140.png (deflated 0%)\n",
            "updating: content/face-141.png (deflated 0%)\n",
            "updating: content/face-142.png (deflated 0%)\n",
            "updating: content/face-143.png (deflated 0%)\n",
            "updating: content/face-144.png (deflated 0%)\n",
            "updating: content/face-145.png (deflated 0%)\n",
            "updating: content/face-146.png (deflated 0%)\n",
            "updating: content/face-147.png (deflated 0%)\n",
            "updating: content/face-148.png (deflated 0%)\n",
            "updating: content/face-149.png (deflated 0%)\n",
            "updating: content/face-14.png (deflated 0%)\n",
            "updating: content/face-150.png (deflated 0%)\n",
            "updating: content/face-151.png (deflated 0%)\n",
            "updating: content/face-152.png (deflated 0%)\n",
            "updating: content/face-153.png (deflated 0%)\n",
            "updating: content/face-154.png (deflated 0%)\n",
            "updating: content/face-155.png (deflated 0%)\n",
            "updating: content/face-156.png (deflated 0%)\n",
            "updating: content/face-157.png (deflated 0%)\n",
            "updating: content/face-158.png (deflated 0%)\n",
            "updating: content/face-159.png (deflated 0%)\n",
            "updating: content/face-15.png (deflated 0%)\n",
            "updating: content/face-160.png (deflated 0%)\n",
            "updating: content/face-161.png (deflated 0%)\n",
            "updating: content/face-162.png (deflated 0%)\n",
            "updating: content/face-163.png (deflated 0%)\n",
            "updating: content/face-16.png (deflated 0%)\n",
            "updating: content/face-17.png (deflated 0%)\n",
            "updating: content/face-18.png (deflated 0%)\n",
            "updating: content/face-19.png (deflated 0%)\n",
            "updating: content/face-1.png (deflated 0%)\n",
            "updating: content/face-20.png (deflated 0%)\n",
            "updating: content/face-21.png (deflated 0%)\n",
            "updating: content/face-22.png (deflated 0%)\n",
            "updating: content/face-23.png (deflated 0%)\n",
            "updating: content/face-24.png (deflated 0%)\n",
            "updating: content/face-25.png (deflated 0%)\n",
            "updating: content/face-26.png (deflated 0%)\n",
            "updating: content/face-27.png (deflated 0%)\n",
            "updating: content/face-28.png (deflated 0%)\n",
            "updating: content/face-29.png (deflated 0%)\n",
            "updating: content/face-2.png (deflated 0%)\n",
            "updating: content/face-30.png (deflated 0%)\n",
            "updating: content/face-31.png (deflated 0%)\n",
            "updating: content/face-32.png (deflated 0%)\n",
            "updating: content/face-33.png (deflated 0%)\n",
            "updating: content/face-34.png (deflated 0%)\n",
            "updating: content/face-35.png (deflated 0%)\n",
            "updating: content/face-36.png (deflated 0%)\n",
            "updating: content/face-37.png (deflated 0%)\n",
            "updating: content/face-38.png (deflated 0%)\n",
            "updating: content/face-39.png (deflated 0%)\n",
            "updating: content/face-3.png (deflated 0%)\n",
            "updating: content/face-40.png (deflated 0%)\n",
            "updating: content/face-41.png (deflated 0%)\n",
            "updating: content/face-42.png (deflated 0%)\n",
            "updating: content/face-43.png (deflated 0%)\n",
            "updating: content/face-44.png (deflated 0%)\n",
            "updating: content/face-45.png (deflated 0%)\n",
            "updating: content/face-46.png (deflated 0%)\n",
            "updating: content/face-47.png (deflated 0%)\n",
            "updating: content/face-48.png (deflated 0%)\n",
            "updating: content/face-49.png (deflated 0%)\n",
            "updating: content/face-4.png (deflated 0%)\n",
            "updating: content/face-50.png (deflated 0%)\n",
            "updating: content/face-51.png (deflated 0%)\n",
            "updating: content/face-52.png (deflated 0%)\n",
            "updating: content/face-53.png (deflated 0%)\n",
            "updating: content/face-54.png (deflated 0%)\n",
            "updating: content/face-55.png (deflated 0%)\n",
            "updating: content/face-56.png (deflated 0%)\n",
            "updating: content/face-57.png (deflated 0%)\n",
            "updating: content/face-58.png (deflated 0%)\n",
            "updating: content/face-59.png (deflated 0%)\n",
            "updating: content/face-5.png (deflated 0%)\n",
            "updating: content/face-60.png (deflated 0%)\n",
            "updating: content/face-61.png (deflated 0%)\n",
            "updating: content/face-62.png (deflated 0%)\n",
            "updating: content/face-63.png (deflated 0%)\n",
            "updating: content/face-64.png (deflated 0%)\n",
            "updating: content/face-65.png (deflated 0%)\n",
            "updating: content/face-66.png (deflated 0%)\n",
            "updating: content/face-67.png (deflated 0%)\n",
            "updating: content/face-68.png (deflated 0%)\n",
            "updating: content/face-69.png (deflated 0%)\n",
            "updating: content/face-6.png (deflated 0%)\n",
            "updating: content/face-70.png (deflated 0%)\n",
            "updating: content/face-71.png (deflated 0%)\n",
            "updating: content/face-72.png (deflated 0%)\n",
            "updating: content/face-73.png (deflated 0%)\n",
            "updating: content/face-74.png (deflated 0%)\n",
            "updating: content/face-75.png (deflated 0%)\n",
            "updating: content/face-76.png (deflated 0%)\n",
            "updating: content/face-77.png (deflated 0%)\n",
            "updating: content/face-78.png (deflated 0%)\n",
            "updating: content/face-79.png (deflated 0%)\n",
            "updating: content/face-7.png (deflated 0%)\n",
            "updating: content/face-80.png (deflated 0%)\n",
            "updating: content/face-81.png (deflated 0%)\n",
            "updating: content/face-82.png (deflated 0%)\n",
            "updating: content/face-83.png (deflated 0%)\n",
            "updating: content/face-84.png (deflated 0%)\n",
            "updating: content/face-85.png (deflated 0%)\n",
            "updating: content/face-86.png (deflated 0%)\n",
            "updating: content/face-87.png (deflated 0%)\n",
            "updating: content/face-88.png (deflated 0%)\n",
            "updating: content/face-89.png (deflated 0%)\n",
            "updating: content/face-8.png (deflated 0%)\n",
            "updating: content/face-90.png (deflated 0%)\n",
            "updating: content/face-91.png (deflated 0%)\n",
            "updating: content/face-92.png (deflated 0%)\n",
            "updating: content/face-93.png (deflated 0%)\n",
            "updating: content/face-94.png (deflated 0%)\n",
            "updating: content/face-95.png (deflated 0%)\n",
            "updating: content/face-96.png (deflated 0%)\n",
            "updating: content/face-97.png (deflated 0%)\n",
            "updating: content/face-98.png (deflated 0%)\n",
            "updating: content/face-99.png (deflated 0%)\n",
            "updating: content/face-9.png (deflated 0%)\n",
            "updating: content/image-1.png (deflated 0%)\n",
            "updating: content/sample.csv (deflated 61%)\n",
            "updating: content/sample_data/ (stored 0%)\n",
            "updating: content/solution.csv (deflated 61%)\n",
            "updating: content/test.csv (deflated 61%)\n",
            "updating: content/train.csv (deflated 61%)\n",
            "  adding: content/face-164.png (deflated 0%)\n",
            "  adding: content/face-165.png (deflated 0%)\n",
            "  adding: content/face-166.png (deflated 0%)\n",
            "  adding: content/face-167.png (deflated 0%)\n",
            "  adding: content/face-168.png (deflated 0%)\n",
            "  adding: content/face-169.png (deflated 0%)\n"
          ],
          "name": "stdout"
        }
      ]
    },
    {
      "cell_type": "code",
      "metadata": {
        "colab": {
          "base_uri": "https://localhost:8080/"
        },
        "id": "3z9moYJdubBI",
        "outputId": "f80b83a4-b35f-4cb5-920a-57d1c9dc510c"
      },
      "source": [
        "!ls -l /content/drive/My\\ Drive/torilarit/images.zip"
      ],
      "execution_count": 44,
      "outputs": [
        {
          "output_type": "stream",
          "text": [
            "-rw------- 1 root root 56445736 Dec 20 16:25 '/content/drive/My Drive/torilarit/images.zip'\n"
          ],
          "name": "stdout"
        }
      ]
    },
    {
      "cell_type": "code",
      "metadata": {
        "colab": {
          "base_uri": "https://localhost:8080/"
        },
        "id": "kQtx878lPi7n",
        "outputId": "b1b02a76-1b53-44f0-fc7f-dbae0405ebb0"
      },
      "source": [
        "!ls -l /content/*.csv"
      ],
      "execution_count": 33,
      "outputs": [
        {
          "output_type": "stream",
          "text": [
            "-rw-r--r-- 1 root root  2156285 Dec 20 16:07 /content/sample.csv\n",
            "-rw-r--r-- 1 root root  2154785 Dec 20 16:07 /content/solution.csv\n",
            "-rw-r--r-- 1 root root  2153777 Dec 20 16:07 /content/test.csv\n",
            "-rw-r--r-- 1 root root 19372120 Dec 20 16:07 /content/train.csv\n"
          ],
          "name": "stdout"
        }
      ]
    }
  ]
}